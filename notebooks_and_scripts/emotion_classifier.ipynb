{
 "cells": [
  {
   "metadata": {
    "ExecuteTime": {
     "end_time": "2025-02-09T10:00:30.452200Z",
     "start_time": "2025-02-09T10:00:23.912609Z"
    }
   },
   "cell_type": "code",
   "source": [
    "import numpy as np\n",
    "import pandas as pd\n",
    "from PIL import Image\n",
    "from keras.src.layers import BatchNormalization\n",
    "from tqdm import tqdm\n",
    "import os"
   ],
   "id": "74976cc289a987e",
   "outputs": [
    {
     "name": "stderr",
     "output_type": "stream",
     "text": [
      "\n",
      "KeyboardInterrupt\n",
      "\n"
     ]
    }
   ],
   "execution_count": 1
  },
  {
   "metadata": {},
   "cell_type": "markdown",
   "source": "# Make the dataset - Put Images in Train, Test and Val folders",
   "id": "79a72b1315c1cb92"
  },
  {
   "cell_type": "code",
   "id": "initial_id",
   "metadata": {
    "collapsed": true,
    "ExecuteTime": {
     "end_time": "2025-02-09T07:35:57.120260Z",
     "start_time": "2025-02-09T07:35:57.116840Z"
    }
   },
   "source": [
    "emotion_map = {\n",
    "    0:\"angry\",\n",
    "    1:\"disgust\",\n",
    "    2:\"fear\",\n",
    "    3:\"happy\",\n",
    "    4:\"sad\",\n",
    "    5:\"surprise\",\n",
    "    6:\"neutral\"\n",
    "}"
   ],
   "outputs": [],
   "execution_count": 2
  },
  {
   "metadata": {
    "ExecuteTime": {
     "end_time": "2025-02-08T14:22:56.359546Z",
     "start_time": "2025-02-08T14:22:56.348644Z"
    }
   },
   "cell_type": "code",
   "source": [
    "outer_names = [\"train\", \"test\", \"val\"]\n",
    "inner_names = [\"angry\",\"disgust\",\"fear\", \"happy\", \"sad\", \"surprise\",\"neutral\"]\n",
    "\n",
    "for outer_name in outer_names:\n",
    "    os.makedirs(os.path.join(\"../data/fer2013\",outer_name), exist_ok = True)\n",
    "    for inner_name in inner_names:\n",
    "        os.makedirs(os.path.join(\"../data/fer2013\",outer_name,inner_name), exist_ok = True)"
   ],
   "id": "5746e6aea1339e70",
   "outputs": [],
   "execution_count": 22
  },
  {
   "metadata": {
    "ExecuteTime": {
     "end_time": "2025-02-08T14:23:40.321822Z",
     "start_time": "2025-02-08T14:23:40.318077Z"
    }
   },
   "cell_type": "code",
   "source": [
    "angry = 0\n",
    "disgust = 0\n",
    "fear = 0\n",
    "happy = 0\n",
    "sad = 0\n",
    "surprise = 0\n",
    "neutral = 0\n",
    "angry_val = 0\n",
    "disgust_val = 0\n",
    "fear_val = 0\n",
    "happy_val = 0\n",
    "sad_val = 0\n",
    "surprise_val = 0\n",
    "neutral_val = 0\n",
    "angry_test = 0\n",
    "disgust_test = 0\n",
    "fear_test = 0\n",
    "happy_test = 0\n",
    "sad_test = 0\n",
    "surprise_test = 0\n",
    "neutral_test = 0"
   ],
   "id": "538eb3d940390ee6",
   "outputs": [],
   "execution_count": 25
  },
  {
   "metadata": {
    "ExecuteTime": {
     "end_time": "2025-02-08T14:23:43.724026Z",
     "start_time": "2025-02-08T14:23:41.112800Z"
    }
   },
   "cell_type": "code",
   "source": [
    "df = pd.read_csv(\"../data/fer2013/fer2013.csv\")\n",
    "mat = np.zeros((48,48),dtype=np.uint8)"
   ],
   "id": "4d26cc90abc87e58",
   "outputs": [],
   "execution_count": 26
  },
  {
   "metadata": {
    "ExecuteTime": {
     "end_time": "2025-02-08T14:23:43.871452Z",
     "start_time": "2025-02-08T14:23:43.862594Z"
    }
   },
   "cell_type": "code",
   "source": "df['Usage'].value_counts()",
   "id": "6eacd47c29907208",
   "outputs": [
    {
     "data": {
      "text/plain": [
       "Usage\n",
       "Training       28709\n",
       "PublicTest      3589\n",
       "PrivateTest     3589\n",
       "Name: count, dtype: int64"
      ]
     },
     "execution_count": 27,
     "metadata": {},
     "output_type": "execute_result"
    }
   ],
   "execution_count": 27
  },
  {
   "metadata": {
    "ExecuteTime": {
     "end_time": "2025-02-08T14:25:26.719302Z",
     "start_time": "2025-02-08T14:23:45.090189Z"
    }
   },
   "cell_type": "code",
   "source": [
    "# convert string to integer\n",
    "def atoi(s):\n",
    "    n = 0\n",
    "    for i in s:\n",
    "        n = n*10 + ord(i) - ord(\"0\")\n",
    "    return n\n",
    "\n",
    "# read the csv file line by line\n",
    "for i in tqdm(range(len(df))):\n",
    "    txt = df['pixels'][i]\n",
    "    words = txt.split()\n",
    "\n",
    "    # the image size is 48x48\n",
    "    for j in range(2304):\n",
    "        xind = j // 48\n",
    "        yind = j % 48\n",
    "        mat[xind][yind] = atoi(words[j])\n",
    "\n",
    "    img = Image.fromarray(mat)\n",
    "\n",
    "    # train\n",
    "    if i < 21005: #28709 full dataset\n",
    "        if df['emotion'][i] == 0:\n",
    "            img.save('../data/fer2013/train/angry/im'+str(angry)+'.png')\n",
    "            angry += 1\n",
    "        elif df['emotion'][i] == 1:\n",
    "            img.save('../data/fer2013/train/disgust/im'+str(disgust)+'.png')\n",
    "            disgust += 1\n",
    "        elif df['emotion'][i] == 2:\n",
    "            img.save('../data/fer2013/train/fear/im'+str(fear)+'.png')\n",
    "            fear += 1\n",
    "        elif df['emotion'][i] == 3:\n",
    "            img.save('../data/fer2013/train/happy/im'+str(happy)+'.png')\n",
    "            happy += 1\n",
    "        elif df['emotion'][i] == 4:\n",
    "            img.save('../data/fer2013/train/sad/im'+str(sad)+'.png')\n",
    "            sad += 1\n",
    "        elif df['emotion'][i] == 5:\n",
    "            img.save('../data/fer2013/train/surprise/im'+str(surprise)+'.png')\n",
    "            surprise += 1\n",
    "        elif df['emotion'][i] == 6:\n",
    "            img.save('../data/fer2013/train/neutral/im'+str(neutral)+'.png')\n",
    "            neutral += 1\n",
    "    # val\n",
    "    elif i>21005 and i<23627:\n",
    "        if df['emotion'][i] == 0:\n",
    "            img.save('../data/fer2013/val/angry/im'+str(angry_val)+'.png')\n",
    "            angry_val += 1\n",
    "        elif df['emotion'][i] == 1:\n",
    "            img.save('../data/fer2013/val/disgust/im'+str(disgust_val)+'.png')\n",
    "            disgust_val += 1\n",
    "        elif df['emotion'][i] == 2:\n",
    "            img.save('../data/fer2013/val/fear/im'+str(fear_val)+'.png')\n",
    "            fear_val += 1\n",
    "        elif df['emotion'][i] == 3:\n",
    "            img.save('../data/fer2013/val/happy/im'+str(happy_val)+'.png')\n",
    "            happy_val += 1\n",
    "        elif df['emotion'][i] == 4:\n",
    "            img.save('../data/fer2013/val/sad/im'+str(sad_val)+'.png')\n",
    "            sad_val += 1\n",
    "        elif df['emotion'][i] == 5:\n",
    "            img.save('../data/fer2013/val/surprise/im'+str(surprise_val)+'.png')\n",
    "            surprise_val += 1\n",
    "        elif df['emotion'][i] == 6:\n",
    "            img.save('../data/fer2013/val/neutral/im'+str(neutral_val)+'.png')\n",
    "            neutral_val += 1\n",
    "\n",
    "    # test\n",
    "    else:\n",
    "        if df['emotion'][i] == 0:\n",
    "            img.save('../data/fer2013/test/angry/im'+str(angry_test)+'.png')\n",
    "            angry_test += 1\n",
    "        elif df['emotion'][i] == 1:\n",
    "            img.save('../data/fer2013/test/disgust/im'+str(disgust_test)+'.png')\n",
    "            disgust_test += 1\n",
    "        elif df['emotion'][i] == 2:\n",
    "            img.save('../data/fer2013/test/fear/im'+str(fear_test)+'.png')\n",
    "            fear_test += 1\n",
    "        elif df['emotion'][i] == 3:\n",
    "            img.save('../data/fer2013/test/happy/im'+str(happy_test)+'.png')\n",
    "            happy_test += 1\n",
    "        elif df['emotion'][i] == 4:\n",
    "            img.save('../data/fer2013/test/sad/im'+str(sad_test)+'.png')\n",
    "            sad_test += 1\n",
    "        elif df['emotion'][i] == 5:\n",
    "            img.save('../data/fer2013/test/surprise/im'+str(surprise_test)+'.png')\n",
    "            surprise_test += 1\n",
    "        elif df['emotion'][i] == 6:\n",
    "            img.save('../data/fer2013/test/neutral/im'+str(neutral_test)+'.png')\n",
    "            neutral_test += 1\n",
    "\n",
    "print(\"Done!\")"
   ],
   "id": "45684a960d289510",
   "outputs": [
    {
     "name": "stderr",
     "output_type": "stream",
     "text": [
      "100%|██████████| 35887/35887 [01:41<00:00, 353.17it/s]"
     ]
    },
    {
     "name": "stdout",
     "output_type": "stream",
     "text": [
      "Done!\n"
     ]
    },
    {
     "name": "stderr",
     "output_type": "stream",
     "text": [
      "\n"
     ]
    }
   ],
   "execution_count": 28
  },
  {
   "metadata": {},
   "cell_type": "markdown",
   "source": "# Exploring the dataset",
   "id": "8fc7641c9da19cf1"
  },
  {
   "metadata": {
    "ExecuteTime": {
     "end_time": "2025-02-09T07:35:58.090835Z",
     "start_time": "2025-02-09T07:35:57.264357Z"
    }
   },
   "cell_type": "code",
   "source": [
    "import matplotlib.pyplot as plt\n",
    "import seaborn as sns\n",
    "\n",
    "# Map the numeric labels in 'emotion' column to string labels\n",
    "df['emotion_label'] = df['emotion'].map(emotion_map)\n",
    "\n",
    "# -- Distribution of Emotions --\n",
    "plt.figure(figsize=(8, 6))\n",
    "ax = sns.countplot(x='emotion_label', data=df)\n",
    "plt.title('Distribution of Emotions')\n",
    "plt.xlabel('Emotion')\n",
    "plt.ylabel('Count')\n",
    "\n",
    "# Add count labels on top of each bar\n",
    "for p in ax.patches:\n",
    "    ax.annotate(\n",
    "        f'{p.get_height()}',\n",
    "        (p.get_x() + p.get_width() / 2., p.get_height()),\n",
    "        ha='center', va='center', fontsize=10, color='black',\n",
    "        xytext=(0, 5), textcoords='offset points'\n",
    "    )\n",
    "\n",
    "plt.show()\n",
    "\n",
    "# -- Sample Images for Each Emotion --\n",
    "plt.figure(figsize=(12, 8))\n",
    "\n",
    "# We have 7 different emotions, so let's create a grid to show one image per emotion.\n",
    "# A 3x3 grid will comfortably accommodate 7 images, leaving a couple of extra subplots unused.\n",
    "for i in range(7):\n",
    "    plt.subplot(3, 3, i + 1)\n",
    "    # Retrieve the first image (as an example) for each emotion\n",
    "    sample_image_str = df[df['emotion'] == i]['pixels'].iloc[0].split()\n",
    "    sample_image = np.array(sample_image_str, dtype=np.uint8).reshape((48, 48))\n",
    "\n",
    "    plt.imshow(sample_image, cmap='gray')\n",
    "    plt.title(emotion_map[i])\n",
    "    plt.axis('off')\n",
    "\n",
    "plt.tight_layout()\n",
    "plt.show()\n"
   ],
   "id": "20e7a3a870554b27",
   "outputs": [
    {
     "ename": "NameError",
     "evalue": "name 'df' is not defined",
     "output_type": "error",
     "traceback": [
      "\u001B[1;31m---------------------------------------------------------------------------\u001B[0m",
      "\u001B[1;31mNameError\u001B[0m                                 Traceback (most recent call last)",
      "Cell \u001B[1;32mIn[3], line 5\u001B[0m\n\u001B[0;32m      2\u001B[0m \u001B[38;5;28;01mimport\u001B[39;00m\u001B[38;5;250m \u001B[39m\u001B[38;5;21;01mseaborn\u001B[39;00m\u001B[38;5;250m \u001B[39m\u001B[38;5;28;01mas\u001B[39;00m\u001B[38;5;250m \u001B[39m\u001B[38;5;21;01msns\u001B[39;00m\n\u001B[0;32m      4\u001B[0m \u001B[38;5;66;03m# Map the numeric labels in 'emotion' column to string labels\u001B[39;00m\n\u001B[1;32m----> 5\u001B[0m df[\u001B[38;5;124m'\u001B[39m\u001B[38;5;124memotion_label\u001B[39m\u001B[38;5;124m'\u001B[39m] \u001B[38;5;241m=\u001B[39m \u001B[43mdf\u001B[49m[\u001B[38;5;124m'\u001B[39m\u001B[38;5;124memotion\u001B[39m\u001B[38;5;124m'\u001B[39m]\u001B[38;5;241m.\u001B[39mmap(emotion_map)\n\u001B[0;32m      7\u001B[0m \u001B[38;5;66;03m# -- Distribution of Emotions --\u001B[39;00m\n\u001B[0;32m      8\u001B[0m plt\u001B[38;5;241m.\u001B[39mfigure(figsize\u001B[38;5;241m=\u001B[39m(\u001B[38;5;241m8\u001B[39m, \u001B[38;5;241m6\u001B[39m))\n",
      "\u001B[1;31mNameError\u001B[0m: name 'df' is not defined"
     ]
    }
   ],
   "execution_count": 3
  },
  {
   "metadata": {
    "ExecuteTime": {
     "end_time": "2025-02-09T07:35:58.114830Z",
     "start_time": "2025-02-08T14:27:49.199684Z"
    }
   },
   "cell_type": "code",
   "source": [
    "import matplotlib.pyplot as plt\n",
    "\n",
    "# Example counts for each emotion in train, val, and test sets\n",
    "# Replace these with your actual counts\n",
    "train_counts = [angry, disgust, fear, happy, sad, surprise, neutral]\n",
    "val_counts   = [angry_val, disgust_val, fear_val, happy_val, sad_val, surprise_val, neutral_val]\n",
    "test_counts  = [angry_test, disgust_test, fear_test, happy_test, sad_test, surprise_test, neutral_test]\n",
    "\n",
    "emotions = ['Angry', 'Disgust', 'Fear', 'Happy', 'Sad', 'Surprise', 'Neutral']\n",
    "\n",
    "# Plotting the bar graph\n",
    "bar_width = 0.25\n",
    "index = range(len(emotions))\n",
    "\n",
    "plt.figure(figsize=(10, 6))\n",
    "\n",
    "bars_train = plt.bar(index, train_counts, width=bar_width, label='Train', color='blue', alpha=0.7)\n",
    "bars_val   = plt.bar([i + bar_width for i in index], val_counts, width=bar_width, label='Validation', color='orange', alpha=0.7)\n",
    "bars_test  = plt.bar([i + 2 * bar_width for i in index], test_counts, width=bar_width, label='Test', color='green', alpha=0.7)\n",
    "\n",
    "plt.xlabel('Emotions')\n",
    "plt.ylabel('Number of Images')\n",
    "plt.title('Number of Images for Each Emotion in Train, Val, and Test Sets')\n",
    "plt.xticks([i + bar_width for i in index], emotions)\n",
    "plt.legend()\n",
    "\n",
    "# Function to add labels on top of each bar\n",
    "def add_labels(bars):\n",
    "    for bar in bars:\n",
    "        yval = bar.get_height()\n",
    "        # Adjust yval + X as needed to avoid overlapping text with the bars\n",
    "        plt.text(bar.get_x() + bar.get_width()/2,\n",
    "                 yval + 10,  # offset for the text from the top of the bar\n",
    "                 int(yval),\n",
    "                 ha='center', va='bottom', fontsize=8)\n",
    "\n",
    "# Add labels for each group\n",
    "add_labels(bars_train)\n",
    "add_labels(bars_val)\n",
    "add_labels(bars_test)\n",
    "\n",
    "plt.tight_layout()\n",
    "plt.show()\n"
   ],
   "id": "3f52d35b98ddbee",
   "outputs": [
    {
     "data": {
      "text/plain": [
       "<Figure size 1000x600 with 1 Axes>"
      ],
      "image/png": "[encoded data removed]"
     },
     "metadata": {},
     "output_type": "display_data"
    }
   ],
   "execution_count": 31
  },
  {
   "metadata": {},
   "cell_type": "markdown",
   "source": "# Training the Model",
   "id": "d0be694fdd08c11e"
  },
  {
   "metadata": {
    "ExecuteTime": {
     "end_time": "2025-02-09T10:21:52.146669Z",
     "start_time": "2025-02-09T10:21:52.141150Z"
    }
   },
   "cell_type": "code",
   "source": [
    "import torch\n",
    "torch.cuda.is_available()"
   ],
   "id": "78399d2f7f7a0315",
   "outputs": [
    {
     "data": {
      "text/plain": [
       "False"
      ]
     },
     "execution_count": 3,
     "metadata": {},
     "output_type": "execute_result"
    }
   ],
   "execution_count": 3
  },
  {
   "metadata": {
    "ExecuteTime": {
     "end_time": "2025-02-09T07:36:09.100826Z",
     "start_time": "2025-02-09T07:36:07.655403Z"
    }
   },
   "cell_type": "code",
   "source": [
    "import torch\n",
    "import torch.nn as nn\n",
    "import torch.optim as optim\n",
    "import torch.nn.functional as F\n",
    "from torchvision import datasets, transforms\n",
    "from torch.utils.data import DataLoader\n",
    "import cv2\n",
    "\n",
    "# Check for GPU\n",
    "device = torch.device(\"cuda\" if torch.cuda.is_available() else \"cpu\")\n",
    "print(f\"Using device: {device}\")\n",
    "\n",
    "# Define batch size & data paths\n",
    "batch_size = 64\n",
    "train_dir = \"../data/fer2013/train\"\n",
    "val_dir = \"../data/fer2013/val\"\n",
    "test_dir = \"../data/fer2013/test\"\n",
    "\n",
    "# Define transformations (Equivalent to rescale=1./255 in TensorFlow)\n",
    "transform = transforms.Compose([\n",
    "    transforms.Grayscale(num_output_channels=1),  # Convert to 1-channel grayscale\n",
    "    transforms.Resize((48, 48)),  # Resize to 48x48\n",
    "    transforms.ToTensor(),  # Convert to tensor\n",
    "    transforms.Normalize(mean=[0.5], std=[0.5])  # Normalize (scales values to [-1,1])\n",
    "])\n",
    "\n",
    "# Load datasets\n",
    "train_dataset = datasets.ImageFolder(root=train_dir, transform=transform)\n",
    "val_dataset = datasets.ImageFolder(root=val_dir, transform=transform)\n",
    "test_dataset = datasets.ImageFolder(root=test_dir, transform=transform)\n",
    "\n",
    "# Create data loaders (Equivalent to train_generator, validation_generator)\n",
    "train_loader = DataLoader(train_dataset, batch_size=batch_size, shuffle=True)\n",
    "val_loader = DataLoader(val_dataset, batch_size=batch_size, shuffle=False)\n",
    "test_loader = DataLoader(test_dataset, batch_size=batch_size, shuffle=False)\n",
    "\n",
    "# Print dataset info\n",
    "print(f\"Train samples: {len(train_dataset)}\")\n",
    "print(f\"Validation samples: {len(val_dataset)}\")\n",
    "print(f\"Test samples: {len(test_dataset)}\")\n"
   ],
   "id": "61dca728b102c479",
   "outputs": [
    {
     "name": "stdout",
     "output_type": "stream",
     "text": [
      "Using device: cuda\n",
      "Train samples: 21005\n",
      "Validation samples: 2621\n",
      "Test samples: 12261\n"
     ]
    }
   ],
   "execution_count": 5
  },
  {
   "metadata": {
    "ExecuteTime": {
     "end_time": "2025-02-09T07:36:09.239495Z",
     "start_time": "2025-02-09T07:36:09.112374Z"
    }
   },
   "cell_type": "code",
   "source": [
    "class CNNModel(nn.Module):\n",
    "    def __init__(self, num_classes=7):  # FER2013 has 7 classes\n",
    "        super(CNNModel, self).__init__()\n",
    "\n",
    "        # Convolutional Block 1\n",
    "        self.conv1 = nn.Conv2d(in_channels=1, out_channels=128, kernel_size=3, padding=1)\n",
    "        self.bn1 = nn.BatchNorm2d(128)\n",
    "        self.pool = nn.MaxPool2d(kernel_size=2, stride=2)\n",
    "        self.dropout1 = nn.Dropout(0.25)\n",
    "\n",
    "        # Convolutional Block 2\n",
    "        self.conv2 = nn.Conv2d(in_channels=128, out_channels=64, kernel_size=3, padding=1)\n",
    "        self.bn2 = nn.BatchNorm2d(64)\n",
    "        self.dropout2 = nn.Dropout(0.25)\n",
    "\n",
    "        # Convolutional Block 3\n",
    "        self.conv3 = nn.Conv2d(in_channels=64, out_channels=32, kernel_size=3, padding=1)\n",
    "        self.bn3 = nn.BatchNorm2d(32)\n",
    "        self.dropout3 = nn.Dropout(0.25)\n",
    "\n",
    "        # Fully Connected Layers\n",
    "        self.fc1 = nn.Linear(32 * 6 * 6, 256)  # Adjust for 48x48 images\n",
    "        self.fc_dropout = nn.Dropout(0.5)\n",
    "        self.fc2 = nn.Linear(256, num_classes)  # Output layer\n",
    "\n",
    "    def forward(self, x):\n",
    "        x = self.pool(F.relu(self.bn1(self.conv1(x))))\n",
    "        x = self.dropout1(x)\n",
    "\n",
    "        x = self.pool(F.relu(self.bn2(self.conv2(x))))\n",
    "        x = self.dropout2(x)\n",
    "\n",
    "        x = self.pool(F.relu(self.bn3(self.conv3(x))))\n",
    "        x = self.dropout3(x)\n",
    "\n",
    "        x = torch.flatten(x, start_dim=1)  # Flatten\n",
    "        x = F.relu(self.fc1(x))\n",
    "        x = self.fc_dropout(x)\n",
    "\n",
    "        x = self.fc2(x)  # Output logits\n",
    "        return x\n",
    "\n",
    "# Instantiate model and move to GPU\n",
    "model = CNNModel(num_classes=7).to(device)\n",
    "\n",
    "# Define loss function and optimizer\n",
    "criterion = nn.CrossEntropyLoss()\n",
    "optimizer = optim.Adam(model.parameters(), lr=0.001)\n",
    "\n",
    "# Print model summary\n",
    "print(model)\n"
   ],
   "id": "4eb8caf002a71a75",
   "outputs": [
    {
     "name": "stdout",
     "output_type": "stream",
     "text": [
      "CNNModel(\n",
      "  (conv1): Conv2d(1, 128, kernel_size=(3, 3), stride=(1, 1), padding=(1, 1))\n",
      "  (bn1): BatchNorm2d(128, eps=1e-05, momentum=0.1, affine=True, track_running_stats=True)\n",
      "  (pool): MaxPool2d(kernel_size=2, stride=2, padding=0, dilation=1, ceil_mode=False)\n",
      "  (dropout1): Dropout(p=0.25, inplace=False)\n",
      "  (conv2): Conv2d(128, 64, kernel_size=(3, 3), stride=(1, 1), padding=(1, 1))\n",
      "  (bn2): BatchNorm2d(64, eps=1e-05, momentum=0.1, affine=True, track_running_stats=True)\n",
      "  (dropout2): Dropout(p=0.25, inplace=False)\n",
      "  (conv3): Conv2d(64, 32, kernel_size=(3, 3), stride=(1, 1), padding=(1, 1))\n",
      "  (bn3): BatchNorm2d(32, eps=1e-05, momentum=0.1, affine=True, track_running_stats=True)\n",
      "  (dropout3): Dropout(p=0.25, inplace=False)\n",
      "  (fc1): Linear(in_features=1152, out_features=256, bias=True)\n",
      "  (fc_dropout): Dropout(p=0.5, inplace=False)\n",
      "  (fc2): Linear(in_features=256, out_features=7, bias=True)\n",
      ")\n"
     ]
    }
   ],
   "execution_count": 6
  },
  {
   "metadata": {
    "ExecuteTime": {
     "end_time": "2025-02-09T07:52:35.951557Z",
     "start_time": "2025-02-09T07:36:11.182841Z"
    }
   },
   "cell_type": "code",
   "source": [
    "# Lists for tracking training progress\n",
    "num_epochs = 50\n",
    "train_acc_list, val_acc_list = [], []\n",
    "train_loss_list, val_loss_list = [], []\n",
    "\n",
    "# 🔹 Training Loop\n",
    "for epoch in range(num_epochs):\n",
    "    model.train()  # Set model to training mode\n",
    "    running_loss = 0.0\n",
    "    correct_train = 0\n",
    "    total_train = 0\n",
    "\n",
    "    for inputs, labels in train_loader:\n",
    "        inputs, labels = inputs.to(device), labels.to(device)\n",
    "\n",
    "        optimizer.zero_grad()\n",
    "        outputs = model(inputs)\n",
    "        loss = criterion(outputs, labels)\n",
    "        loss.backward()\n",
    "        optimizer.step()\n",
    "\n",
    "        running_loss += loss.item()\n",
    "        _, predicted = torch.max(outputs, 1)\n",
    "        correct_train += (predicted == labels).sum().item()\n",
    "        total_train += labels.size(0)\n",
    "\n",
    "    train_acc = 100 * correct_train / total_train\n",
    "    train_loss = running_loss / len(train_loader)\n",
    "    train_acc_list.append(train_acc)\n",
    "    train_loss_list.append(train_loss)\n",
    "\n",
    "    # Validation\n",
    "    model.eval()\n",
    "    correct_val = 0\n",
    "    total_val = 0\n",
    "    val_loss = 0.0\n",
    "\n",
    "    with torch.no_grad():\n",
    "        for inputs, labels in val_loader:\n",
    "            inputs, labels = inputs.to(device), labels.to(device)\n",
    "            outputs = model(inputs)\n",
    "            loss = criterion(outputs, labels)\n",
    "            val_loss += loss.item()\n",
    "            _, predicted = torch.max(outputs, 1)\n",
    "            correct_val += (predicted == labels).sum().item()\n",
    "            total_val += labels.size(0)\n",
    "\n",
    "    val_acc = 100 * correct_val / total_val\n",
    "    val_loss = val_loss / len(val_loader)\n",
    "    val_acc_list.append(val_acc)\n",
    "    val_loss_list.append(val_loss)\n",
    "\n",
    "    print(f\"Epoch [{epoch+1}/{num_epochs}], \"\n",
    "          f\"Train Loss: {train_loss:.4f}, Train Acc: {train_acc:.2f}% | \"\n",
    "          f\"Val Loss: {val_loss:.4f}, Val Acc: {val_acc:.2f}%\")\n"
   ],
   "id": "f9f99e987984bd60",
   "outputs": [
    {
     "name": "stdout",
     "output_type": "stream",
     "text": [
      "Epoch [1/50], Train Loss: 1.7026, Train Acc: 31.47% | Val Loss: 1.5175, Val Acc: 43.00%\n",
      "Epoch [2/50], Train Loss: 1.5196, Train Acc: 40.93% | Val Loss: 1.3638, Val Acc: 47.58%\n",
      "Epoch [3/50], Train Loss: 1.4465, Train Acc: 44.21% | Val Loss: 1.2969, Val Acc: 50.21%\n",
      "Epoch [4/50], Train Loss: 1.3985, Train Acc: 46.36% | Val Loss: 1.2686, Val Acc: 51.13%\n",
      "Epoch [5/50], Train Loss: 1.3608, Train Acc: 48.15% | Val Loss: 1.2416, Val Acc: 52.42%\n",
      "Epoch [6/50], Train Loss: 1.3370, Train Acc: 48.94% | Val Loss: 1.2148, Val Acc: 53.00%\n",
      "Epoch [7/50], Train Loss: 1.3127, Train Acc: 49.70% | Val Loss: 1.1943, Val Acc: 54.33%\n",
      "Epoch [8/50], Train Loss: 1.2957, Train Acc: 50.36% | Val Loss: 1.1893, Val Acc: 54.56%\n",
      "Epoch [9/50], Train Loss: 1.2688, Train Acc: 51.61% | Val Loss: 1.1781, Val Acc: 54.14%\n",
      "Epoch [10/50], Train Loss: 1.2561, Train Acc: 51.75% | Val Loss: 1.1561, Val Acc: 55.21%\n",
      "Epoch [11/50], Train Loss: 1.2464, Train Acc: 52.22% | Val Loss: 1.1429, Val Acc: 55.59%\n",
      "Epoch [12/50], Train Loss: 1.2209, Train Acc: 53.51% | Val Loss: 1.1335, Val Acc: 55.89%\n",
      "Epoch [13/50], Train Loss: 1.2135, Train Acc: 53.83% | Val Loss: 1.1345, Val Acc: 56.77%\n",
      "Epoch [14/50], Train Loss: 1.1948, Train Acc: 54.12% | Val Loss: 1.1121, Val Acc: 57.23%\n",
      "Epoch [15/50], Train Loss: 1.1842, Train Acc: 54.74% | Val Loss: 1.1219, Val Acc: 56.51%\n",
      "Epoch [16/50], Train Loss: 1.1684, Train Acc: 55.44% | Val Loss: 1.1093, Val Acc: 57.27%\n",
      "Epoch [17/50], Train Loss: 1.1667, Train Acc: 55.41% | Val Loss: 1.1081, Val Acc: 57.08%\n",
      "Epoch [18/50], Train Loss: 1.1544, Train Acc: 55.73% | Val Loss: 1.0997, Val Acc: 57.65%\n",
      "Epoch [19/50], Train Loss: 1.1460, Train Acc: 56.16% | Val Loss: 1.0958, Val Acc: 58.41%\n",
      "Epoch [20/50], Train Loss: 1.1272, Train Acc: 57.36% | Val Loss: 1.1007, Val Acc: 58.22%\n",
      "Epoch [21/50], Train Loss: 1.1235, Train Acc: 56.95% | Val Loss: 1.0910, Val Acc: 58.22%\n",
      "Epoch [22/50], Train Loss: 1.1183, Train Acc: 57.04% | Val Loss: 1.0958, Val Acc: 59.44%\n",
      "Epoch [23/50], Train Loss: 1.1105, Train Acc: 57.37% | Val Loss: 1.0875, Val Acc: 59.10%\n",
      "Epoch [24/50], Train Loss: 1.1066, Train Acc: 57.63% | Val Loss: 1.0839, Val Acc: 59.37%\n",
      "Epoch [25/50], Train Loss: 1.0856, Train Acc: 58.76% | Val Loss: 1.0632, Val Acc: 60.17%\n",
      "Epoch [26/50], Train Loss: 1.0882, Train Acc: 58.06% | Val Loss: 1.0724, Val Acc: 59.60%\n",
      "Epoch [27/50], Train Loss: 1.0733, Train Acc: 58.74% | Val Loss: 1.0728, Val Acc: 59.10%\n",
      "Epoch [28/50], Train Loss: 1.0701, Train Acc: 59.35% | Val Loss: 1.0673, Val Acc: 59.75%\n",
      "Epoch [29/50], Train Loss: 1.0630, Train Acc: 59.53% | Val Loss: 1.0908, Val Acc: 60.02%\n",
      "Epoch [30/50], Train Loss: 1.0520, Train Acc: 59.86% | Val Loss: 1.0653, Val Acc: 59.82%\n",
      "Epoch [31/50], Train Loss: 1.0465, Train Acc: 60.05% | Val Loss: 1.0651, Val Acc: 59.79%\n",
      "Epoch [32/50], Train Loss: 1.0318, Train Acc: 60.65% | Val Loss: 1.0694, Val Acc: 59.48%\n",
      "Epoch [33/50], Train Loss: 1.0339, Train Acc: 60.56% | Val Loss: 1.0597, Val Acc: 60.40%\n",
      "Epoch [34/50], Train Loss: 1.0317, Train Acc: 60.70% | Val Loss: 1.0532, Val Acc: 60.55%\n",
      "Epoch [35/50], Train Loss: 1.0220, Train Acc: 60.92% | Val Loss: 1.0580, Val Acc: 60.17%\n",
      "Epoch [36/50], Train Loss: 1.0136, Train Acc: 61.69% | Val Loss: 1.0568, Val Acc: 61.05%\n",
      "Epoch [37/50], Train Loss: 1.0060, Train Acc: 61.54% | Val Loss: 1.0595, Val Acc: 60.17%\n",
      "Epoch [38/50], Train Loss: 0.9997, Train Acc: 62.35% | Val Loss: 1.0523, Val Acc: 60.74%\n",
      "Epoch [39/50], Train Loss: 0.9886, Train Acc: 62.48% | Val Loss: 1.0484, Val Acc: 60.63%\n",
      "Epoch [40/50], Train Loss: 0.9875, Train Acc: 62.56% | Val Loss: 1.0580, Val Acc: 60.66%\n",
      "Epoch [41/50], Train Loss: 0.9877, Train Acc: 62.55% | Val Loss: 1.0572, Val Acc: 60.02%\n",
      "Epoch [42/50], Train Loss: 0.9763, Train Acc: 62.80% | Val Loss: 1.0497, Val Acc: 61.24%\n",
      "Epoch [43/50], Train Loss: 0.9663, Train Acc: 63.34% | Val Loss: 1.0524, Val Acc: 60.85%\n",
      "Epoch [44/50], Train Loss: 0.9594, Train Acc: 63.16% | Val Loss: 1.0688, Val Acc: 60.82%\n",
      "Epoch [45/50], Train Loss: 0.9652, Train Acc: 63.52% | Val Loss: 1.0539, Val Acc: 60.82%\n",
      "Epoch [46/50], Train Loss: 0.9546, Train Acc: 63.57% | Val Loss: 1.0538, Val Acc: 60.70%\n",
      "Epoch [47/50], Train Loss: 0.9464, Train Acc: 64.29% | Val Loss: 1.0634, Val Acc: 61.08%\n",
      "Epoch [48/50], Train Loss: 0.9494, Train Acc: 64.06% | Val Loss: 1.0528, Val Acc: 61.24%\n",
      "Epoch [49/50], Train Loss: 0.9507, Train Acc: 63.82% | Val Loss: 1.0406, Val Acc: 62.38%\n",
      "Epoch [50/50], Train Loss: 0.9249, Train Acc: 64.53% | Val Loss: 1.0551, Val Acc: 61.43%\n"
     ]
    }
   ],
   "execution_count": 7
  },
  {
   "metadata": {
    "ExecuteTime": {
     "end_time": "2025-02-09T07:52:43.558407Z",
     "start_time": "2025-02-09T07:52:43.200923Z"
    }
   },
   "cell_type": "code",
   "source": [
    "def plot_training_history(train_acc_list, val_acc_list, train_loss_list, val_loss_list, num_epochs):\n",
    "    \"\"\"\n",
    "    Plots training and validation accuracy/loss over epochs.\n",
    "\n",
    "    Args:\n",
    "    - train_acc_list (list): Training accuracy per epoch\n",
    "    - val_acc_list (list): Validation accuracy per epoch\n",
    "    - train_loss_list (list): Training loss per epoch\n",
    "    - val_loss_list (list): Validation loss per epoch\n",
    "    - num_epochs (int): Total number of epochs\n",
    "    \"\"\"\n",
    "    epochs = range(1, num_epochs + 1)\n",
    "\n",
    "    plt.figure(figsize=(12, 5))\n",
    "\n",
    "    # Plot Accuracy\n",
    "    plt.subplot(1, 2, 1)\n",
    "    plt.plot(epochs, train_acc_list, 'b', label='Training Accuracy')\n",
    "    plt.plot(epochs, val_acc_list, 'r', label='Validation Accuracy')\n",
    "    plt.xlabel('Epochs')\n",
    "    plt.ylabel('Accuracy')\n",
    "    plt.title('Training vs Validation Accuracy')\n",
    "    plt.legend()\n",
    "\n",
    "    # Plot Loss\n",
    "    plt.subplot(1, 2, 2)\n",
    "    plt.plot(epochs, train_loss_list, 'b', label='Training Loss')\n",
    "    plt.plot(epochs, val_loss_list, 'r', label='Validation Loss')\n",
    "    plt.xlabel('Epochs')\n",
    "    plt.ylabel('Loss')\n",
    "    plt.title('Training vs Validation Loss')\n",
    "    plt.legend()\n",
    "\n",
    "    plt.show()\n",
    "\n",
    "# Call the plotting function\n",
    "plot_training_history(train_acc_list, val_acc_list, train_loss_list, val_loss_list, num_epochs)"
   ],
   "id": "a8b821dd1ce22f89",
   "outputs": [
    {
     "data": {
      "text/plain": [
       "<Figure size 1200x500 with 2 Axes>"
      ],
      "image/png": "[encoded data removed]"
     },
     "metadata": {},
     "output_type": "display_data"
    }
   ],
   "execution_count": 8
  },
  {
   "metadata": {
    "ExecuteTime": {
     "end_time": "2025-02-09T07:53:20.061971Z",
     "start_time": "2025-02-09T07:52:55.874420Z"
    }
   },
   "cell_type": "code",
   "source": [
    "# Set model to evaluation mode\n",
    "model.eval()\n",
    "\n",
    "# Initialize variables for tracking loss and accuracy\n",
    "correct_test = 0\n",
    "total_test = 0\n",
    "test_loss = 0.0\n",
    "\n",
    "# Define loss function (same as during training)\n",
    "criterion = nn.CrossEntropyLoss()\n",
    "\n",
    "# Disable gradient calculations for inference\n",
    "with torch.no_grad():\n",
    "    for inputs, labels in test_loader:  # Iterate through test dataset\n",
    "        inputs, labels = inputs.to(device), labels.to(device)\n",
    "\n",
    "        # Forward pass\n",
    "        outputs = model(inputs)\n",
    "\n",
    "        # Compute loss\n",
    "        loss = criterion(outputs, labels)\n",
    "        test_loss += loss.item()\n",
    "\n",
    "        # Compute accuracy\n",
    "        _, predicted = torch.max(outputs, 1)  # Get class predictions\n",
    "        correct_test += (predicted == labels).sum().item()\n",
    "        total_test += labels.size(0)\n",
    "\n",
    "# Compute final loss and accuracy\n",
    "test_loss /= len(test_loader)  # Average loss\n",
    "test_accuracy = 100 * correct_test / total_test  # Accuracy percentage\n",
    "\n",
    "# Print evaluation results\n",
    "print(f\"Test Loss: {test_loss:.4f}\")\n",
    "print(f\"Test Accuracy: {test_accuracy:.2f}%\")\n"
   ],
   "id": "4ef974825ad3640f",
   "outputs": [
    {
     "name": "stdout",
     "output_type": "stream",
     "text": [
      "Test Loss: 1.0609\n",
      "Test Accuracy: 61.23%\n"
     ]
    }
   ],
   "execution_count": 9
  },
  {
   "metadata": {
    "ExecuteTime": {
     "end_time": "2025-02-09T07:53:47.867987Z",
     "start_time": "2025-02-09T07:53:47.850853Z"
    }
   },
   "cell_type": "code",
   "source": [
    "# After training, save only the state dict:\n",
    "torch.save(model.state_dict(), \"../Backend/models/emotion_model_2_state.pth\")\n"
   ],
   "id": "afd1889f9719489",
   "outputs": [],
   "execution_count": 10
  },
  {
   "metadata": {
    "ExecuteTime": {
     "end_time": "2025-02-08T15:09:29.679211Z",
     "start_time": "2025-02-08T15:09:29.652704Z"
    }
   },
   "cell_type": "code",
   "outputs": [
    {
     "name": "stdout",
     "output_type": "stream",
     "text": [
      "Model saved successfully!\n"
     ]
    }
   ],
   "execution_count": 40,
   "source": [
    "# import torch\n",
    "#\n",
    "# # Save both the model and optimizer state\n",
    "# torch.save({\n",
    "#     'model_state_dict': model.state_dict(),\n",
    "#     'optimizer_state_dict': optimizer.state_dict(),\n",
    "#     'classes': [\"Angry\", \"Happy\", \"Sad\", \"Calm\", \"Neutral\", \"Disgust\", \"Fear\"]\n",
    "# }, \"emotion_model_1.pth\")\n",
    "#\n",
    "# print(\"Model saved successfully!\")\n"
   ],
   "id": "25e97b9c0f76aba1"
  },
  {
   "metadata": {
    "ExecuteTime": {
     "end_time": "2025-02-08T15:10:40.793467Z",
     "start_time": "2025-02-08T15:10:40.775190Z"
    }
   },
   "cell_type": "code",
   "outputs": [
    {
     "name": "stdout",
     "output_type": "stream",
     "text": [
      "Model saved successfully like TensorFlow .h5\n"
     ]
    }
   ],
   "execution_count": 41,
   "source": [
    "# import torch\n",
    "#\n",
    "# # Save the entire model (architecture + weights)\n",
    "# torch.save(model, \"../models/emotion_model_1_full.pth\")\n",
    "#\n",
    "# print(\"Model saved successfully like TensorFlow .h5\")\n"
   ],
   "id": "e669f547c9e02784"
  },
  {
   "metadata": {},
   "cell_type": "code",
   "outputs": [],
   "execution_count": null,
   "source": "",
   "id": "2248143bb45fc0b9"
  }
 ],
 "metadata": {
  "kernelspec": {
   "display_name": "Python 3",
   "language": "python",
   "name": "python3"
  },
  "language_info": {
   "codemirror_mode": {
    "name": "ipython",
    "version": 2
   },
   "file_extension": ".py",
   "mimetype": "text/x-python",
   "name": "python",
   "nbconvert_exporter": "python",
   "pygments_lexer": "ipython2",
   "version": "2.7.6"
  }
 },
 "nbformat": 4,
 "nbformat_minor": 5
}
